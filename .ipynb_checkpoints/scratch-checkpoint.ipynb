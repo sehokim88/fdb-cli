{
 "cells": [
  {
   "cell_type": "code",
   "execution_count": 1,
   "metadata": {},
   "outputs": [],
   "source": [
    "import base64\n",
    "import matplotlib.pyplot as plt\n",
    "import numpy as np\n",
    "import pandas as pd\n",
    "import psycopg2 as pg\n",
    "import os\n",
    "from pandas.plotting import register_matplotlib_converters\n",
    "from datetime import datetime\n",
    "import scipy.stats as ss\n",
    "register_matplotlib_converters()"
   ]
  },
  {
   "cell_type": "code",
   "execution_count": 509,
   "metadata": {},
   "outputs": [],
   "source": [
    "host = os.getenv('RDS_HOST')\n",
    "port = os.getenv('RDS_PORT')\n",
    "database = os.getenv('RDS_DATABASE')\n",
    "user = os.getenv('RDS_USER')\n",
    "password = os.getenv('RDS_PASSWORD')\n",
    "conn = pg.connect(host=host, port=port, database=database, user=user, password=password)\n",
    "cur = conn.cursor()"
   ]
  },
  {
   "cell_type": "code",
   "execution_count": 3,
   "metadata": {},
   "outputs": [],
   "source": [
    "stage_selector = 'deep'\n",
    "group_selector = 'dow'\n",
    "\n",
    "\n",
    "if group_selector == 'all':\n",
    "    query = f\"\"\"\n",
    "    SELECT \"end\"::date -1 \"date\", \n",
    "        {stage_selector}\n",
    "    FROM sleep\n",
    "    WHERE {stage_selector} IS NOT NULL\n",
    "        AND user_id = '7BVHQT'\n",
    "    ORDER BY \"date\" ASC;\n",
    "    \"\"\"\n",
    "\n",
    "elif group_selector in ['dow', 'month', 'week']:\n",
    "    query = f\"\"\"\n",
    "    SELECT extract( {group_selector} FROM \"end\"::date -1 ) \"{group_selector}\",\n",
    "        round( avg( {stage_selector} ), 2 ) {stage_selector}_avg,\n",
    "        round( stddev( {stage_selector} ), 2 ) {stage_selector}_std\n",
    "    FROM sleep\n",
    "    WHERE {stage_selector} IS NOT NULL\n",
    "        AND user_id = '7BVHQT'\n",
    "    GROUP BY \"{group_selector}\"\n",
    "    ORDER BY \"{group_selector}\" ASC;\n",
    "    \"\"\"\n",
    "\n",
    "    \n",
    "    \n",
    "cur.execute(query)\n",
    "data = cur.fetchall()\n",
    "colname = [c[0] for c in cur.description]\n",
    "data = pd.DataFrame(data, columns=colname)"
   ]
  },
  {
   "cell_type": "code",
   "execution_count": 283,
   "metadata": {},
   "outputs": [
    {
     "data": {
      "image/png": "[encoded data removed]",
      "text/plain": [
       "<Figure size 720x432 with 1 Axes>"
      ]
     },
     "metadata": {
      "needs_background": "light"
     },
     "output_type": "display_data"
    }
   ],
   "source": [
    "fig = plt.figure(figsize=(10,6))\n",
    "if stage_selector == 'rem':\n",
    "    bar_color = 'royalblue'\n",
    "elif stage_selector == 'deep':\n",
    "    bar_color = 'lightcoral'\n",
    "    \n",
    "plt.bar(\n",
    "    data[f'{group_selector}'],\n",
    "    data[f'{stage_selector}_avg'], \n",
    "    yerr=data[f'{stage_selector}_std'],\n",
    "    width=0.6,\n",
    "    color=bar_color,\n",
    "    ecolor='black', \n",
    "    tick_label=['S', 'M', 'T', 'W', 'Th', 'F', 'Sa']    \n",
    ")\n",
    "plt.title(f'Average Minutes of {stage_selector} Sleep by {group_selector} (errorbar: +/- 1 Standard Deviation)')\n",
    "plt.ylabel(f'Minutes of {stage_selector} Sleep')\n",
    "plt.xlabel(f'{group_selector}')\n",
    "fig.savefig('plot.png', format='png')"
   ]
  },
  {
   "cell_type": "code",
   "execution_count": 510,
   "metadata": {},
   "outputs": [
    {
     "data": {
      "text/html": [
       "<div>\n",
       "<style scoped>\n",
       "    .dataframe tbody tr th:only-of-type {\n",
       "        vertical-align: middle;\n",
       "    }\n",
       "\n",
       "    .dataframe tbody tr th {\n",
       "        vertical-align: top;\n",
       "    }\n",
       "\n",
       "    .dataframe thead th {\n",
       "        text-align: right;\n",
       "    }\n",
       "</style>\n",
       "<table border=\"1\" class=\"dataframe\">\n",
       "  <thead>\n",
       "    <tr style=\"text-align: right;\">\n",
       "      <th></th>\n",
       "      <th>dow</th>\n",
       "      <th>avg_start</th>\n",
       "      <th>avg_start_epoch</th>\n",
       "      <th>std_start</th>\n",
       "    </tr>\n",
       "  </thead>\n",
       "  <tbody>\n",
       "    <tr>\n",
       "      <th>0</th>\n",
       "      <td>0</td>\n",
       "      <td>23:25:37</td>\n",
       "      <td>1405.63</td>\n",
       "      <td>87.78</td>\n",
       "    </tr>\n",
       "    <tr>\n",
       "      <th>1</th>\n",
       "      <td>1</td>\n",
       "      <td>23:01:38</td>\n",
       "      <td>1381.64</td>\n",
       "      <td>44.54</td>\n",
       "    </tr>\n",
       "    <tr>\n",
       "      <th>2</th>\n",
       "      <td>2</td>\n",
       "      <td>22:38:45</td>\n",
       "      <td>1358.75</td>\n",
       "      <td>57.03</td>\n",
       "    </tr>\n",
       "    <tr>\n",
       "      <th>3</th>\n",
       "      <td>3</td>\n",
       "      <td>22:56:17</td>\n",
       "      <td>1376.29</td>\n",
       "      <td>54.22</td>\n",
       "    </tr>\n",
       "    <tr>\n",
       "      <th>4</th>\n",
       "      <td>4</td>\n",
       "      <td>22:56:51</td>\n",
       "      <td>1376.86</td>\n",
       "      <td>71.71</td>\n",
       "    </tr>\n",
       "    <tr>\n",
       "      <th>5</th>\n",
       "      <td>5</td>\n",
       "      <td>00:06:12</td>\n",
       "      <td>1446.20</td>\n",
       "      <td>149.47</td>\n",
       "    </tr>\n",
       "    <tr>\n",
       "      <th>6</th>\n",
       "      <td>6</td>\n",
       "      <td>00:07:50</td>\n",
       "      <td>1447.84</td>\n",
       "      <td>108.40</td>\n",
       "    </tr>\n",
       "  </tbody>\n",
       "</table>\n",
       "</div>"
      ],
      "text/plain": [
       "   dow avg_start avg_start_epoch std_start\n",
       "0    0  23:25:37         1405.63     87.78\n",
       "1    1  23:01:38         1381.64     44.54\n",
       "2    2  22:38:45         1358.75     57.03\n",
       "3    3  22:56:17         1376.29     54.22\n",
       "4    4  22:56:51         1376.86     71.71\n",
       "5    5  00:06:12         1446.20    149.47\n",
       "6    6  00:07:50         1447.84    108.40"
      ]
     },
     "execution_count": 510,
     "metadata": {},
     "output_type": "execute_result"
    }
   ],
   "source": [
    "\n",
    "query = f\"\"\"\n",
    "SELECT EXTRACT( DOW FROM \"end\"::date -1 )::int2 dow,\n",
    "    date_trunc(\n",
    "        'second', to_timestamp( \n",
    "            avg( \n",
    "                CASE WHEN EXTRACT( EPOCH FROM start::time ) < 60*60*12 \n",
    "                    THEN EXTRACT( EPOCH FROM start::time ) + 60*60*24\n",
    "                    ELSE EXTRACT( EPOCH FROM start::time )\n",
    "                END\n",
    "            )\n",
    "        )::time\n",
    "    ) avg_start,\n",
    "    round(\n",
    "        avg( \n",
    "            CASE WHEN EXTRACT( EPOCH FROM start::time ) < 60*60*12 \n",
    "                THEN EXTRACT( EPOCH FROM start::time ) + 60*60*24\n",
    "                ELSE EXTRACT( EPOCH FROM start::time )\n",
    "            END\n",
    "        )::dec /60, 2\n",
    "    ) avg_start_epoch,\n",
    "    \n",
    "    round(\n",
    "        stddev( \n",
    "            CASE WHEN EXTRACT( EPOCH FROM start::time ) < 60*60*12 \n",
    "                THEN EXTRACT( EPOCH FROM start::time ) + 60*60*24\n",
    "                ELSE EXTRACT( EPOCH FROM start::time )\n",
    "            END\n",
    "        )::dec / 60, 2 \n",
    "    ) std_start\n",
    "FROM sleep\n",
    "WHERE deep IS NOT NULL\n",
    "GROUP BY dow\n",
    "ORDER BY dow ASC;\n",
    "\"\"\"\n",
    "\n",
    "cur.execute(query)\n",
    "data = cur.fetchall()\n",
    "colname = [c[0] for c in cur.description]\n",
    "avg_start_by_dow = pd.DataFrame(data, columns=colname)\n",
    "avg_start_by_dow"
   ]
  },
  {
   "cell_type": "markdown",
   "metadata": {},
   "source": [
    "# Sleep Start Time by DOW "
   ]
  },
  {
   "cell_type": "markdown",
   "metadata": {},
   "source": [
    "# monthly consistency"
   ]
  },
  {
   "cell_type": "code",
   "execution_count": 190,
   "metadata": {},
   "outputs": [],
   "source": [
    "query = \"\"\"\n",
    "SELECT start::time start_time,\n",
    "    CASE WHEN EXTRACT( EPOCH FROM start::time ) < 60*60*12 THEN EXTRACT( EPOCH FROM start::time ) + 60*60*24\n",
    "        ELSE EXTRACT( EPOCH FROM start::time )\n",
    "        END::real/60 start_epoch,\n",
    "    EXTRACT( MONTH FROM \"end\"::date -1 )::int2 \"month\"\n",
    "FROM sleep\n",
    "WHERE NOW()-(\"end\"::date-1) < INTERVAL '6 months' AND user_id LIKE '7B%' AND \"end\"-start > INTERVAL '3.5 hours'\n",
    "ORDER BY start;\n",
    "\"\"\"\n",
    "\n",
    "cur.execute(query)\n",
    "data = cur.fetchall()\n",
    "colnames = [cn[0] for cn in cur.description]\n",
    "df = pd.DataFrame(data, columns=colnames)"
   ]
  },
  {
   "cell_type": "code",
   "execution_count": 213,
   "metadata": {},
   "outputs": [
    {
     "data": {
      "text/html": [
       "<div>\n",
       "<style scoped>\n",
       "    .dataframe tbody tr th:only-of-type {\n",
       "        vertical-align: middle;\n",
       "    }\n",
       "\n",
       "    .dataframe tbody tr th {\n",
       "        vertical-align: top;\n",
       "    }\n",
       "\n",
       "    .dataframe thead th {\n",
       "        text-align: right;\n",
       "    }\n",
       "</style>\n",
       "<table border=\"1\" class=\"dataframe\">\n",
       "  <thead>\n",
       "    <tr style=\"text-align: right;\">\n",
       "      <th></th>\n",
       "      <th>month</th>\n",
       "      <th>avg</th>\n",
       "      <th>std</th>\n",
       "    </tr>\n",
       "  </thead>\n",
       "  <tbody>\n",
       "    <tr>\n",
       "      <th>0</th>\n",
       "      <td>4</td>\n",
       "      <td>1394.558824</td>\n",
       "      <td>68.155585</td>\n",
       "    </tr>\n",
       "    <tr>\n",
       "      <th>1</th>\n",
       "      <td>5</td>\n",
       "      <td>1396.403226</td>\n",
       "      <td>117.653759</td>\n",
       "    </tr>\n",
       "    <tr>\n",
       "      <th>2</th>\n",
       "      <td>6</td>\n",
       "      <td>1410.700000</td>\n",
       "      <td>99.313992</td>\n",
       "    </tr>\n",
       "    <tr>\n",
       "      <th>3</th>\n",
       "      <td>7</td>\n",
       "      <td>1406.724138</td>\n",
       "      <td>53.527127</td>\n",
       "    </tr>\n",
       "    <tr>\n",
       "      <th>4</th>\n",
       "      <td>8</td>\n",
       "      <td>1400.516667</td>\n",
       "      <td>111.832270</td>\n",
       "    </tr>\n",
       "    <tr>\n",
       "      <th>5</th>\n",
       "      <td>9</td>\n",
       "      <td>1366.071429</td>\n",
       "      <td>54.006003</td>\n",
       "    </tr>\n",
       "  </tbody>\n",
       "</table>\n",
       "</div>"
      ],
      "text/plain": [
       "   month          avg         std\n",
       "0      4  1394.558824   68.155585\n",
       "1      5  1396.403226  117.653759\n",
       "2      6  1410.700000   99.313992\n",
       "3      7  1406.724138   53.527127\n",
       "4      8  1400.516667  111.832270\n",
       "5      9  1366.071429   54.006003"
      ]
     },
     "execution_count": 213,
     "metadata": {},
     "output_type": "execute_result"
    }
   ],
   "source": [
    "new_df = df.groupby('month').mean().reset_index().merge(df.groupby('month').std().reset_index(), on='month')\n",
    "new_df.columns = ['month', 'avg', 'std']\n",
    "new_df\n"
   ]
  },
  {
   "cell_type": "markdown",
   "metadata": {},
   "source": [
    "# weekly inconsistency "
   ]
  },
  {
   "cell_type": "markdown",
   "metadata": {},
   "source": [
    "# Significance test "
   ]
  },
  {
   "cell_type": "code",
   "execution_count": 275,
   "metadata": {},
   "outputs": [
    {
     "data": {
      "text/plain": [
       "0.19250714989457993"
      ]
     },
     "execution_count": 275,
     "metadata": {},
     "output_type": "execute_result"
    }
   ],
   "source": [
    "n = 12\n",
    "print(f\"overall mean : {new_df.loc[:new_df.shape[0]-n,'std'].mean()}\")\n",
    "print(f\"standard error : {new_df.loc[:new_df.shape[0]-n,'std'].std()}\")\n",
    "print(f\"recent 3 months mean : {new_df.loc[new_df.shape[0]-n:,'std'].mean()}\")\n",
    "print(f\"standard error : {new_df.loc[new_df.shape[0]-n:,'std'].std()/np.sqrt(n-1)}\")\n",
    "ss.ttest_1samp(new_df.loc[new_df.shape[0]-12:,'std'], 86.26).pvalue"
   ]
  }
 ],
 "metadata": {
  "kernelspec": {
   "display_name": "Python 3",
   "language": "python",
   "name": "python3"
  },
  "language_info": {
   "codemirror_mode": {
    "name": "ipython",
    "version": 3
   },
   "file_extension": ".py",
   "mimetype": "text/x-python",
   "name": "python",
   "nbconvert_exporter": "python",
   "pygments_lexer": "ipython3",
   "version": "3.6.8"
  }
 },
 "nbformat": 4,
 "nbformat_minor": 2
}
